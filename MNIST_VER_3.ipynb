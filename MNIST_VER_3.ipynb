{
  "nbformat": 4,
  "nbformat_minor": 0,
  "metadata": {
    "colab": {
      "provenance": [],
      "include_colab_link": true
    },
    "kernelspec": {
      "name": "python3",
      "display_name": "Python 3"
    },
    "language_info": {
      "name": "python"
    }
  },
  "cells": [
    {
      "cell_type": "markdown",
      "metadata": {
        "id": "view-in-github",
        "colab_type": "text"
      },
      "source": [
        "<a href=\"https://colab.research.google.com/github/Tinkolik/Project/blob/master/MNIST_VER_3.ipynb\" target=\"_parent\"><img src=\"https://colab.research.google.com/assets/colab-badge.svg\" alt=\"Open In Colab\"/></a>"
      ]
    },
    {
      "cell_type": "markdown",
      "source": [
        "## Модули"
      ],
      "metadata": {
        "id": "TtxddhsnQSCI"
      }
    },
    {
      "cell_type": "code",
      "source": [
        "import numpy  as np\n",
        "import pandas as pd"
      ],
      "metadata": {
        "id": "GDKEx0oD3E_p"
      },
      "execution_count": 8,
      "outputs": []
    },
    {
      "cell_type": "code",
      "execution_count": 2,
      "metadata": {
        "id": "OPlDvmDWzEzr"
      },
      "outputs": [],
      "source": [
        "import torch\n",
        "import torch.nn as nn\n",
        "import keras\n",
        "import tensorflow as tf\n",
        "from keras.datasets import mnist"
      ]
    },
    {
      "cell_type": "markdown",
      "source": [
        "## Датасет MNIST"
      ],
      "metadata": {
        "id": "ncHhRWXBQT4c"
      }
    },
    {
      "cell_type": "code",
      "source": [
        "\n",
        "(X_train, y_train), (X_test, y_test) = mnist.load_data()\n",
        "X_train = tf.keras.utils.normalize(X_train, axis=1)\n",
        "X_test = tf.keras.utils.normalize(X_test, axis=1)\n",
        "y_train = y_train[:, np.newaxis].T\n",
        "y_test = y_test[:, np.newaxis].T\n",
        "\n",
        "x = X_train\n",
        "xo = np.ndarray((len(x),28**2))\n",
        "for i in range(len(x)):\n",
        "  xo[i] = x[i].flatten()\n",
        "X_train = xo.T\n",
        "\n",
        "x = X_test\n",
        "xo = np.ndarray((len(x),28**2))\n",
        "for i in range(len(x)):\n",
        "  xo[i] = x[i].flatten()\n",
        "X_test = xo.T"
      ],
      "metadata": {
        "id": "eZIuZ0eizFZg"
      },
      "execution_count": 3,
      "outputs": []
    },
    {
      "cell_type": "code",
      "source": [
        "# Преобразовываем числа из датасета в массив из 10 элементов, где в индексе числа стоит единица\n",
        "def encode(Y):\n",
        "  result = []\n",
        "  for i in Y[0]:\n",
        "    temp = np.zeros(10)\n",
        "    temp[i] = 1\n",
        "    result.append(temp)\n",
        "  return np.array(result).T"
      ],
      "metadata": {
        "id": "0n58ZNyey5h2"
      },
      "execution_count": 4,
      "outputs": []
    },
    {
      "cell_type": "code",
      "source": [
        "# Обратная трансформация для вывода\n",
        "def decode(Y):\n",
        "  y = Y.T\n",
        "  out = []\n",
        "  for yi in y:\n",
        "    out.append(np.argmax(yi))\n",
        "  return np.array(out).T"
      ],
      "metadata": {
        "id": "VW3SQhX0-I5e"
      },
      "execution_count": 5,
      "outputs": []
    },
    {
      "cell_type": "code",
      "source": [
        "y_train = encode(y_train)\n",
        "y_test = encode(y_test)\n",
        "\n",
        "print(y_train)"
      ],
      "metadata": {
        "id": "VQXBquqpmJTd",
        "colab": {
          "base_uri": "https://localhost:8080/"
        },
        "outputId": "3a866343-6066-462b-b1ab-a8fd0a9001f6"
      },
      "execution_count": 6,
      "outputs": [
        {
          "output_type": "stream",
          "name": "stdout",
          "text": [
            "[[0. 1. 0. ... 0. 0. 0.]\n",
            " [0. 0. 0. ... 0. 0. 0.]\n",
            " [0. 0. 0. ... 0. 0. 0.]\n",
            " ...\n",
            " [0. 0. 0. ... 0. 0. 0.]\n",
            " [0. 0. 0. ... 0. 0. 1.]\n",
            " [0. 0. 0. ... 0. 0. 0.]]\n"
          ]
        }
      ]
    },
    {
      "cell_type": "markdown",
      "source": [
        "## Модель"
      ],
      "metadata": {
        "id": "uFAqEd2uSRi-"
      }
    },
    {
      "cell_type": "code",
      "source": [
        "class dlnet:\n",
        "    def __init__(self, x, y):\n",
        "        self.X=x  # входные данные\n",
        "        self.Y=y  # размеченные данные, target\n",
        "        self.Yh=np.zeros((1,self.Y.shape[1]))  # реальный выход перцептрона\n",
        "        self.L=2  # количество слоев\n",
        "        self.dims = [28*28, 20, 10]  # 28**2 фичей на вход, 20 нейронов в скрытом слое,\n",
        "                                # 10 нейронов на выходе\n",
        "        self.param = {}  # параметры и базисы для каждого слоя\n",
        "        self.ch = {}  # кэш для вякого\n",
        "        self.grad = {}  #\n",
        "        self.loss = []  # для хранения значений лоссов\n",
        "        self.lr=0.003\n",
        "        self.sam = self.Y.shape[1]  # количество тренировачных образцов\n",
        "\n",
        "    def nInit(self):\n",
        "        \"\"\"\n",
        "        Инициализирует начальные параметры для сети\n",
        "        \"\"\"\n",
        "        np.random.seed(1)\n",
        "\n",
        "        self.param['W1'] = np.random.randn(self.dims[1], self.dims[0]) / np.sqrt(self.dims[0])\n",
        "        self.param['b1'] = np.zeros((self.dims[1], 1))\n",
        "        self.param['W2'] = np.random.randn(self.dims[2], self.dims[1]) / np.sqrt(self.dims[1])\n",
        "        self.param['b2'] = np.zeros((self.dims[2], 1))\n",
        "        return\n",
        "\n",
        "    def Sigmoid(self, Z):\n",
        "        return 1/(1+np.exp(-Z))\n",
        "\n",
        "    def Relu(self, Z):\n",
        "        return np.maximum(0,Z)\n",
        "\n",
        "    def forward(self):\n",
        "        # первый слой\n",
        "        Z1 = self.param['W1'].dot(self.X) + self.param['b1']\n",
        "        # функция активации\n",
        "        A1 = self.Relu(Z1)\n",
        "        # сохраняем в кэш результаты\n",
        "        self.ch['Z1'],self.ch['A1']=Z1,A1\n",
        "        # второй слой\n",
        "        Z2 = self.param['W2'].dot(A1) + self.param['b2']\n",
        "        # функция активации\n",
        "        A2 = self.Sigmoid(Z2)\n",
        "        # сохраняем в кэш результаты\n",
        "        self.ch['Z2'],self.ch['A2']=Z2,A2\n",
        "        # выход сети\n",
        "        self.Yh=A2\n",
        "        # считаем лоссы\n",
        "        loss=self.nloss(A2)\n",
        "        #print(self.param)\n",
        "        #print(self.Yh)\n",
        "        return self.Yh, loss\n",
        "\n",
        "    def nloss(self,Yh):\n",
        "        # кросс-энтропия\n",
        "        loss = (1./self.sam) * (-np.dot(self.Y,np.log(Yh).T) - np.dot(1-self.Y, np.log(1-Yh).T))\n",
        "        return loss\n",
        "\n",
        "    def dRelu(self, x):\n",
        "        x[x<=0] = 0\n",
        "        x[x>0] = 1\n",
        "        return x\n",
        "\n",
        "    def dSigmoid(self, Z):\n",
        "        s = 1/(1+np.exp(-Z))\n",
        "        dZ = s * (1-s)\n",
        "        return dZ\n",
        "\n",
        "    def backward(self):\n",
        "        dLoss_Yh = - (np.divide(self.Y, self.Yh ) - np.divide(1 - self.Y, 1 - self.Yh))\n",
        "\n",
        "        dLoss_Z2 = dLoss_Yh * self.dSigmoid(self.ch['Z2'])\n",
        "        dLoss_W2 = 1./self.ch['A1'].shape[1] * np.dot(dLoss_Z2,self.ch['A1'].T)\n",
        "        dLoss_b2 = 1./self.ch['A1'].shape[1] * np.dot(dLoss_Z2, np.ones([dLoss_Z2.shape[1],1]))\n",
        "        #dLoss_W2 = np.dot(dLoss_Z2,self.ch['A1'].T)\n",
        "        #dLoss_b2 = np.dot(dLoss_Z2, np.ones([dLoss_Z2.shape[1],1]))\n",
        "\n",
        "        dLoss_A1 = np.dot(self.param[\"W2\"].T,dLoss_Z2)\n",
        "        dLoss_Z1 = dLoss_A1 * self.dRelu(self.ch['Z1'])\n",
        "        dLoss_A0 = np.dot(self.param[\"W1\"].T,dLoss_Z1)\n",
        "        dLoss_W1 = 1./self.X.shape[1] * np.dot(dLoss_Z1,self.X.T)\n",
        "        dLoss_b1 = 1./self.X.shape[1] * np.dot(dLoss_Z1, np.ones([dLoss_Z1.shape[1],1]))\n",
        "        #dLoss_W1 = np.dot(dLoss_Z1,self.X.T)\n",
        "        #dLoss_b1 = np.dot(dLoss_Z1, np.ones([dLoss_Z1.shape[1],1]))\n",
        "\n",
        "        self.param[\"W1\"] = self.param[\"W1\"] - self.lr * dLoss_W1\n",
        "        self.param[\"b1\"] = self.param[\"b1\"] - self.lr * dLoss_b1\n",
        "        self.param[\"W2\"] = self.param[\"W2\"] - self.lr * dLoss_W2\n",
        "        self.param[\"b2\"] = self.param[\"b2\"] - self.lr * dLoss_b2\n",
        "\n",
        "    def gd(self,X, Y, iter = 3000):\n",
        "        np.random.seed(1)\n",
        "\n",
        "        self.nInit()\n",
        "\n",
        "        for i in range(0, iter):\n",
        "            Yh, loss=self.forward()\n",
        "            self.backward()\n",
        "\n",
        "            if i % 1 == 0:\n",
        "                print (\"Cost after iteration %i: %f\" %(i, loss.sum()))\n",
        "                self.loss.append(loss)\n",
        "\n",
        "        return\n",
        "\n",
        "    def pred(self,x, y):\n",
        "        self.X=x\n",
        "        self.Y=y\n",
        "        comp = np.zeros((10,x.shape[1]))\n",
        "        pred, loss= self.forward()\n",
        "        acc = 0\n",
        "        comp = comp.T\n",
        "        for i in range(pred.shape[1]):\n",
        "          #print(np.argmax(pred.T[i]))\n",
        "          comp[i][np.argmax(pred.T[i])] = 1\n",
        "          acc = acc + np.dot(comp[i,:], y[:,i])\n",
        "        comp = comp.T\n",
        "        print(\"Проверка данных:\")\n",
        "        print(\"предсказанное число моделью: \" + str(np.argmax(pred.T[0])))\n",
        "        print(\"Трансформированное число: \" + str(comp.T[0]))\n",
        "\n",
        "        print(\"Точность модели: \" + str(acc/x.shape[1]*100) + '%')\n",
        "        return comp\n",
        "\n",
        "    def check(self, num, y, c):\n",
        "      print(\"Истинные метки: \" + str(y.T[num]))\n",
        "      print(\"Предсказ метки: \" + str(c.T[num]))"
      ],
      "metadata": {
        "id": "x7xfSIIS5LDJ"
      },
      "execution_count": 35,
      "outputs": []
    },
    {
      "cell_type": "markdown",
      "source": [
        "## Обучение"
      ],
      "metadata": {
        "id": "FFIIorXpSUz-"
      }
    },
    {
      "cell_type": "code",
      "source": [
        "nn = dlnet(X_train, y_train)\n",
        "nn.lr=0.2\n",
        "nn.dims = [28**2, 24, 10]\n",
        "nn.gd(X_train, y_train, iter = 200)"
      ],
      "metadata": {
        "colab": {
          "base_uri": "https://localhost:8080/"
        },
        "id": "kgc1Af4_AfIe",
        "outputId": "a4fc276a-b886-47fb-be70-319de7ce4486"
      },
      "execution_count": 36,
      "outputs": [
        {
          "output_type": "stream",
          "name": "stdout",
          "text": [
            "Cost after iteration 0: 69.102286\n",
            "Cost after iteration 1: 61.965843\n",
            "Cost after iteration 2: 53.107572\n",
            "Cost after iteration 3: 43.521027\n",
            "Cost after iteration 4: 36.618392\n",
            "Cost after iteration 5: 33.962621\n",
            "Cost after iteration 6: 33.304335\n",
            "Cost after iteration 7: 33.152256\n",
            "Cost after iteration 8: 33.111854\n",
            "Cost after iteration 9: 33.099130\n",
            "Cost after iteration 10: 33.095859\n",
            "Cost after iteration 11: 33.097721\n",
            "Cost after iteration 12: 33.103436\n",
            "Cost after iteration 13: 33.112518\n",
            "Cost after iteration 14: 33.124624\n",
            "Cost after iteration 15: 33.139704\n",
            "Cost after iteration 16: 33.158025\n",
            "Cost after iteration 17: 33.179858\n",
            "Cost after iteration 18: 33.205684\n",
            "Cost after iteration 19: 33.235951\n",
            "Cost after iteration 20: 33.271153\n",
            "Cost after iteration 21: 33.311719\n",
            "Cost after iteration 22: 33.357991\n",
            "Cost after iteration 23: 33.410281\n",
            "Cost after iteration 24: 33.468924\n",
            "Cost after iteration 25: 33.534204\n",
            "Cost after iteration 26: 33.606416\n",
            "Cost after iteration 27: 33.685872\n",
            "Cost after iteration 28: 33.772901\n",
            "Cost after iteration 29: 33.867755\n",
            "Cost after iteration 30: 33.970685\n",
            "Cost after iteration 31: 34.081911\n",
            "Cost after iteration 32: 34.201594\n",
            "Cost after iteration 33: 34.329879\n",
            "Cost after iteration 34: 34.466797\n",
            "Cost after iteration 35: 34.612384\n",
            "Cost after iteration 36: 34.766592\n",
            "Cost after iteration 37: 34.929333\n",
            "Cost after iteration 38: 35.100449\n",
            "Cost after iteration 39: 35.279754\n",
            "Cost after iteration 40: 35.466999\n",
            "Cost after iteration 41: 35.661894\n",
            "Cost after iteration 42: 35.864123\n",
            "Cost after iteration 43: 36.073353\n",
            "Cost after iteration 44: 36.289176\n",
            "Cost after iteration 45: 36.511203\n",
            "Cost after iteration 46: 36.739009\n",
            "Cost after iteration 47: 36.972139\n",
            "Cost after iteration 48: 37.210180\n",
            "Cost after iteration 49: 37.452676\n",
            "Cost after iteration 50: 37.699210\n",
            "Cost after iteration 51: 37.949408\n",
            "Cost after iteration 52: 38.202852\n",
            "Cost after iteration 53: 38.459176\n",
            "Cost after iteration 54: 38.718033\n",
            "Cost after iteration 55: 38.979052\n",
            "Cost after iteration 56: 39.241983\n",
            "Cost after iteration 57: 39.506475\n",
            "Cost after iteration 58: 39.772258\n",
            "Cost after iteration 59: 40.039075\n",
            "Cost after iteration 60: 40.306666\n",
            "Cost after iteration 61: 40.574817\n",
            "Cost after iteration 62: 40.843325\n",
            "Cost after iteration 63: 41.112023\n",
            "Cost after iteration 64: 41.380713\n",
            "Cost after iteration 65: 41.649234\n",
            "Cost after iteration 66: 41.917444\n",
            "Cost after iteration 67: 42.185203\n",
            "Cost after iteration 68: 42.452370\n",
            "Cost after iteration 69: 42.718890\n",
            "Cost after iteration 70: 42.984649\n",
            "Cost after iteration 71: 43.249520\n",
            "Cost after iteration 72: 43.513448\n",
            "Cost after iteration 73: 43.776366\n",
            "Cost after iteration 74: 44.038190\n",
            "Cost after iteration 75: 44.298891\n",
            "Cost after iteration 76: 44.558387\n",
            "Cost after iteration 77: 44.816626\n",
            "Cost after iteration 78: 45.073575\n",
            "Cost after iteration 79: 45.329212\n",
            "Cost after iteration 80: 45.583455\n",
            "Cost after iteration 81: 45.836275\n",
            "Cost after iteration 82: 46.087750\n",
            "Cost after iteration 83: 46.337710\n",
            "Cost after iteration 84: 46.586153\n",
            "Cost after iteration 85: 46.833111\n",
            "Cost after iteration 86: 47.078580\n",
            "Cost after iteration 87: 47.322436\n",
            "Cost after iteration 88: 47.564698\n",
            "Cost after iteration 89: 47.805442\n",
            "Cost after iteration 90: 48.044548\n",
            "Cost after iteration 91: 48.282006\n",
            "Cost after iteration 92: 48.517828\n",
            "Cost after iteration 93: 48.752001\n",
            "Cost after iteration 94: 48.984543\n",
            "Cost after iteration 95: 49.215447\n",
            "Cost after iteration 96: 49.444744\n",
            "Cost after iteration 97: 49.672425\n",
            "Cost after iteration 98: 49.898498\n",
            "Cost after iteration 99: 50.122939\n",
            "Cost after iteration 100: 50.345764\n",
            "Cost after iteration 101: 50.566977\n",
            "Cost after iteration 102: 50.786612\n",
            "Cost after iteration 103: 51.004648\n",
            "Cost after iteration 104: 51.221124\n",
            "Cost after iteration 105: 51.436057\n",
            "Cost after iteration 106: 51.649419\n",
            "Cost after iteration 107: 51.861235\n",
            "Cost after iteration 108: 52.071501\n",
            "Cost after iteration 109: 52.280256\n",
            "Cost after iteration 110: 52.487517\n",
            "Cost after iteration 111: 52.693292\n",
            "Cost after iteration 112: 52.897598\n",
            "Cost after iteration 113: 53.100449\n",
            "Cost after iteration 114: 53.301869\n",
            "Cost after iteration 115: 53.501886\n",
            "Cost after iteration 116: 53.700532\n",
            "Cost after iteration 117: 53.897797\n",
            "Cost after iteration 118: 54.093710\n",
            "Cost after iteration 119: 54.288267\n",
            "Cost after iteration 120: 54.481478\n",
            "Cost after iteration 121: 54.673354\n",
            "Cost after iteration 122: 54.863901\n",
            "Cost after iteration 123: 55.053146\n",
            "Cost after iteration 124: 55.241152\n",
            "Cost after iteration 125: 55.427897\n",
            "Cost after iteration 126: 55.613398\n",
            "Cost after iteration 127: 55.797624\n",
            "Cost after iteration 128: 55.980621\n",
            "Cost after iteration 129: 56.162370\n",
            "Cost after iteration 130: 56.342918\n",
            "Cost after iteration 131: 56.522308\n",
            "Cost after iteration 132: 56.700557\n",
            "Cost after iteration 133: 56.877645\n",
            "Cost after iteration 134: 57.053616\n",
            "Cost after iteration 135: 57.228481\n",
            "Cost after iteration 136: 57.402235\n",
            "Cost after iteration 137: 57.574918\n",
            "Cost after iteration 138: 57.746499\n",
            "Cost after iteration 139: 57.916980\n",
            "Cost after iteration 140: 58.086390\n",
            "Cost after iteration 141: 58.254763\n",
            "Cost after iteration 142: 58.422076\n",
            "Cost after iteration 143: 58.588343\n",
            "Cost after iteration 144: 58.753582\n",
            "Cost after iteration 145: 58.917795\n",
            "Cost after iteration 146: 59.081005\n",
            "Cost after iteration 147: 59.243211\n",
            "Cost after iteration 148: 59.404405\n",
            "Cost after iteration 149: 59.564623\n",
            "Cost after iteration 150: 59.723858\n",
            "Cost after iteration 151: 59.882137\n",
            "Cost after iteration 152: 60.039513\n",
            "Cost after iteration 153: 60.195963\n",
            "Cost after iteration 154: 60.351461\n",
            "Cost after iteration 155: 60.506024\n",
            "Cost after iteration 156: 60.659698\n",
            "Cost after iteration 157: 60.812525\n",
            "Cost after iteration 158: 60.964477\n",
            "Cost after iteration 159: 61.115534\n",
            "Cost after iteration 160: 61.265789\n",
            "Cost after iteration 161: 61.415179\n",
            "Cost after iteration 162: 61.563722\n",
            "Cost after iteration 163: 61.711456\n",
            "Cost after iteration 164: 61.858352\n",
            "Cost after iteration 165: 62.004413\n",
            "Cost after iteration 166: 62.149635\n",
            "Cost after iteration 167: 62.294088\n",
            "Cost after iteration 168: 62.437718\n",
            "Cost after iteration 169: 62.580493\n",
            "Cost after iteration 170: 62.722470\n",
            "Cost after iteration 171: 62.863685\n",
            "Cost after iteration 172: 63.004176\n",
            "Cost after iteration 173: 63.143903\n",
            "Cost after iteration 174: 63.282873\n",
            "Cost after iteration 175: 63.421094\n",
            "Cost after iteration 176: 63.558534\n",
            "Cost after iteration 177: 63.695251\n",
            "Cost after iteration 178: 63.831231\n",
            "Cost after iteration 179: 63.966451\n",
            "Cost after iteration 180: 64.100964\n",
            "Cost after iteration 181: 64.234763\n",
            "Cost after iteration 182: 64.367883\n",
            "Cost after iteration 183: 64.500295\n",
            "Cost after iteration 184: 64.631995\n",
            "Cost after iteration 185: 64.762984\n",
            "Cost after iteration 186: 64.893301\n",
            "Cost after iteration 187: 65.022901\n",
            "Cost after iteration 188: 65.151847\n",
            "Cost after iteration 189: 65.280069\n",
            "Cost after iteration 190: 65.407641\n",
            "Cost after iteration 191: 65.534596\n",
            "Cost after iteration 192: 65.660910\n",
            "Cost after iteration 193: 65.786599\n",
            "Cost after iteration 194: 65.911635\n",
            "Cost after iteration 195: 66.035967\n",
            "Cost after iteration 196: 66.159614\n",
            "Cost after iteration 197: 66.282581\n",
            "Cost after iteration 198: 66.404865\n",
            "Cost after iteration 199: 66.526546\n"
          ]
        }
      ]
    },
    {
      "cell_type": "markdown",
      "source": [
        "## Проверка"
      ],
      "metadata": {
        "id": "kRJyipevSYJm"
      }
    },
    {
      "cell_type": "code",
      "source": [
        "c = nn.pred(X_test, y_test)\n",
        "#print(X_train.shape[1])"
      ],
      "metadata": {
        "colab": {
          "base_uri": "https://localhost:8080/"
        },
        "id": "pwzVFTieA150",
        "outputId": "dcd0f711-d955-4179-8c2f-2c989628a2a1"
      },
      "execution_count": 37,
      "outputs": [
        {
          "output_type": "stream",
          "name": "stdout",
          "text": [
            "Проверка данных:\n",
            "предсказанное число моделью: 7\n",
            "Трансформированное число: [0. 0. 0. 0. 0. 0. 0. 1. 0. 0.]\n",
            "Точность модели: 87.9%\n"
          ]
        }
      ]
    },
    {
      "cell_type": "code",
      "source": [
        "for i in range(0, 10):\n",
        "  print(c.T[i])"
      ],
      "metadata": {
        "colab": {
          "base_uri": "https://localhost:8080/"
        },
        "id": "dVwfFn3eH_8F",
        "outputId": "967307d2-bf87-4d6c-8daa-f13fa4c23126"
      },
      "execution_count": 38,
      "outputs": [
        {
          "output_type": "stream",
          "name": "stdout",
          "text": [
            "[0. 0. 0. 0. 0. 0. 0. 1. 0. 0.]\n",
            "[0. 0. 1. 0. 0. 0. 0. 0. 0. 0.]\n",
            "[0. 1. 0. 0. 0. 0. 0. 0. 0. 0.]\n",
            "[1. 0. 0. 0. 0. 0. 0. 0. 0. 0.]\n",
            "[0. 0. 0. 0. 1. 0. 0. 0. 0. 0.]\n",
            "[0. 1. 0. 0. 0. 0. 0. 0. 0. 0.]\n",
            "[0. 0. 0. 0. 1. 0. 0. 0. 0. 0.]\n",
            "[0. 0. 0. 0. 0. 0. 0. 0. 0. 1.]\n",
            "[0. 0. 0. 0. 1. 0. 0. 0. 0. 0.]\n",
            "[0. 0. 0. 0. 0. 0. 0. 0. 0. 1.]\n"
          ]
        }
      ]
    },
    {
      "cell_type": "code",
      "source": [
        "nn.check(6, y_test, c)"
      ],
      "metadata": {
        "colab": {
          "base_uri": "https://localhost:8080/"
        },
        "id": "87evCf_I9Lc9",
        "outputId": "d8ab8a4d-7a2e-4c44-db53-bd7641fbe4b8"
      },
      "execution_count": 41,
      "outputs": [
        {
          "output_type": "stream",
          "name": "stdout",
          "text": [
            "Истинные метки: [0. 0. 0. 0. 1. 0. 0. 0. 0. 0.]\n",
            "Предсказ метки: [0. 0. 0. 0. 1. 0. 0. 0. 0. 0.]\n"
          ]
        }
      ]
    },
    {
      "cell_type": "code",
      "source": [
        "print(\"y_test shape: \" + str(y_test.shape))"
      ],
      "metadata": {
        "id": "uv0U52tCFG3X",
        "colab": {
          "base_uri": "https://localhost:8080/"
        },
        "outputId": "2689b303-104b-41f7-a439-c93cad2f67c5"
      },
      "execution_count": 43,
      "outputs": [
        {
          "output_type": "stream",
          "name": "stdout",
          "text": [
            "y_test shape: (10, 10000)\n"
          ]
        }
      ]
    },
    {
      "cell_type": "code",
      "source": [
        "print(\"Кол-во правильных предсказанных меток: \" + str((c==y_test).sum()))"
      ],
      "metadata": {
        "colab": {
          "base_uri": "https://localhost:8080/"
        },
        "id": "gCvQBS6wU0qj",
        "outputId": "8de64e0e-21aa-40a6-a213-9a110dc0f1b4"
      },
      "execution_count": 44,
      "outputs": [
        {
          "output_type": "stream",
          "name": "stdout",
          "text": [
            "Кол-во правильных предсказанных меток: 97580\n"
          ]
        }
      ]
    },
    {
      "cell_type": "code",
      "source": [
        "cn = decode(c)\n",
        "yn = decode(y_test)\n",
        "print(\"Точность: \" + str((cn==yn).sum()/100) + '%')"
      ],
      "metadata": {
        "id": "IpTIlS-xVP7q",
        "colab": {
          "base_uri": "https://localhost:8080/"
        },
        "outputId": "49b39e71-d6ac-449b-84c2-6d73971652cc"
      },
      "execution_count": 45,
      "outputs": [
        {
          "output_type": "stream",
          "name": "stdout",
          "text": [
            "Точность: 87.9%\n"
          ]
        }
      ]
    }
  ]
}