{
  "nbformat": 4,
  "nbformat_minor": 0,
  "metadata": {
    "colab": {
      "provenance": [],
      "include_colab_link": true
    },
    "kernelspec": {
      "name": "python3",
      "display_name": "Python 3"
    },
    "language_info": {
      "name": "python"
    }
  },
  "cells": [
    {
      "cell_type": "markdown",
      "metadata": {
        "id": "view-in-github",
        "colab_type": "text"
      },
      "source": [
        "<a href=\"https://colab.research.google.com/github/Tinkolik/MNIST_NN/blob/master/MNIST_VER_3.ipynb\" target=\"_parent\"><img src=\"https://colab.research.google.com/assets/colab-badge.svg\" alt=\"Open In Colab\"/></a>"
      ]
    },
    {
      "cell_type": "markdown",
      "source": [
        "## Модули"
      ],
      "metadata": {
        "id": "TtxddhsnQSCI"
      }
    },
    {
      "cell_type": "code",
      "source": [
        "import numpy  as np\n",
        "import pandas as pd"
      ],
      "metadata": {
        "id": "GDKEx0oD3E_p"
      },
      "execution_count": 1,
      "outputs": []
    },
    {
      "cell_type": "code",
      "execution_count": 2,
      "metadata": {
        "id": "OPlDvmDWzEzr"
      },
      "outputs": [],
      "source": [
        "import torch\n",
        "import torch.nn as nn\n",
        "import keras\n",
        "import tensorflow as tf\n",
        "from keras.datasets import mnist"
      ]
    },
    {
      "cell_type": "code",
      "source": [
        "import matplotlib.pyplot as plt"
      ],
      "metadata": {
        "id": "o5t3OoodaobU"
      },
      "execution_count": 3,
      "outputs": []
    },
    {
      "cell_type": "markdown",
      "source": [
        "## Датасет MNIST"
      ],
      "metadata": {
        "id": "ncHhRWXBQT4c"
      }
    },
    {
      "cell_type": "code",
      "source": [
        "(X_train, y_train), (X_test, y_test) = mnist.load_data()"
      ],
      "metadata": {
        "id": "fs0YX5uOagzE"
      },
      "execution_count": 4,
      "outputs": []
    },
    {
      "cell_type": "code",
      "source": [
        "ind = y_train[0] # 0\n",
        "img = X_train[0] # shape = (1, 28, 28) # <class 'torch.Tensor'>\n",
        "# img = np.squeeze(img) # или: img = img.reshape(28, 28)\n",
        "img = img.reshape(28, 28)\n",
        "plt.imshow(img, cmap = plt.get_cmap('gray'))\n",
        "# Если не употреблять transform = ToTensor():\n",
        "# img = test_data[0][0] # shape = (28, 28) # <class 'PIL.Image.Image'>\n",
        "# plt.imshow(img, cmap = plt.get_cmap('gray'))\n",
        "plt.title(ind)\n",
        "plt.axis('off')\n",
        "plt.show()"
      ],
      "metadata": {
        "colab": {
          "base_uri": "https://localhost:8080/",
          "height": 428
        },
        "id": "Aa97V4UFak6S",
        "outputId": "ec5eabef-71f0-4ffd-e5a7-7beccf33de21"
      },
      "execution_count": 5,
      "outputs": [
        {
          "output_type": "display_data",
          "data": {
            "text/plain": [
              "<Figure size 640x480 with 1 Axes>"
            ],
            "image/png": "[encoded data removed]"
          },
          "metadata": {}
        }
      ]
    },
    {
      "cell_type": "code",
      "source": [
        "\n",
        "X_train = tf.keras.utils.normalize(X_train, axis=1)\n",
        "X_test = tf.keras.utils.normalize(X_test, axis=1)\n",
        "y_train = y_train[:, np.newaxis].T\n",
        "y_test = y_test[:, np.newaxis].T\n",
        "\n",
        "x = X_train\n",
        "xo = np.ndarray((len(x),28**2))\n",
        "for i in range(len(x)):\n",
        "  xo[i] = x[i].flatten()\n",
        "X_train = xo.T\n",
        "\n",
        "x = X_test\n",
        "xo = np.ndarray((len(x),28**2))\n",
        "for i in range(len(x)):\n",
        "  xo[i] = x[i].flatten()\n",
        "X_test = xo.T"
      ],
      "metadata": {
        "id": "eZIuZ0eizFZg"
      },
      "execution_count": 6,
      "outputs": []
    },
    {
      "cell_type": "code",
      "source": [
        "# Преобразовываем числа из датасета в массив из 10 элементов, где в индексе числа стоит единица\n",
        "def encode(Y):\n",
        "  result = []\n",
        "  for i in Y[0]:\n",
        "    temp = np.zeros(10)\n",
        "    temp[i] = 1\n",
        "    result.append(temp)\n",
        "  return np.array(result).T"
      ],
      "metadata": {
        "id": "0n58ZNyey5h2"
      },
      "execution_count": 7,
      "outputs": []
    },
    {
      "cell_type": "code",
      "source": [
        "# Обратная трансформация для вывода\n",
        "def decode(Y):\n",
        "  y = Y.T\n",
        "  out = []\n",
        "  for yi in y:\n",
        "    out.append(np.argmax(yi))\n",
        "  return np.array(out).T"
      ],
      "metadata": {
        "id": "VW3SQhX0-I5e"
      },
      "execution_count": 8,
      "outputs": []
    },
    {
      "cell_type": "code",
      "source": [
        "y_train = encode(y_train)\n",
        "y_test = encode(y_test)\n",
        "\n",
        "print(y_train)"
      ],
      "metadata": {
        "id": "VQXBquqpmJTd",
        "colab": {
          "base_uri": "https://localhost:8080/"
        },
        "outputId": "9d3b8387-4596-4097-dfda-042471ee74f0"
      },
      "execution_count": 9,
      "outputs": [
        {
          "output_type": "stream",
          "name": "stdout",
          "text": [
            "[[0. 1. 0. ... 0. 0. 0.]\n",
            " [0. 0. 0. ... 0. 0. 0.]\n",
            " [0. 0. 0. ... 0. 0. 0.]\n",
            " ...\n",
            " [0. 0. 0. ... 0. 0. 0.]\n",
            " [0. 0. 0. ... 0. 0. 1.]\n",
            " [0. 0. 0. ... 0. 0. 0.]]\n"
          ]
        }
      ]
    },
    {
      "cell_type": "markdown",
      "source": [
        "## Модель"
      ],
      "metadata": {
        "id": "uFAqEd2uSRi-"
      }
    },
    {
      "cell_type": "code",
      "source": [
        "class dlnet:\n",
        "    def __init__(self, x, y):\n",
        "        self.X=x  # входные данные\n",
        "        self.Y=y  # размеченные данные, target\n",
        "        self.Yh=np.zeros((1,self.Y.shape[1]))  # реальный выход перцептрона\n",
        "        self.L=2  # количество слоев\n",
        "        self.dims = [28*28, 20, 10]  # 28**2 фичей на вход, 20 нейронов в скрытом слое,\n",
        "                                # 10 нейронов на выходе\n",
        "        self.param = {}  # параметры и базисы для каждого слоя\n",
        "        self.ch = {}  # кэш для вякого\n",
        "        self.grad = {}  #\n",
        "        self.loss = []  # для хранения значений лоссов\n",
        "        self.lr=0.003\n",
        "        self.sam = self.Y.shape[1]  # количество тренировачных образцов\n",
        "\n",
        "    def nInit(self):\n",
        "        \"\"\"\n",
        "        Инициализирует начальные параметры для сети\n",
        "        \"\"\"\n",
        "        np.random.seed(1)\n",
        "\n",
        "        self.param['W1'] = np.random.randn(self.dims[1], self.dims[0]) / np.sqrt(self.dims[0])\n",
        "        self.param['b1'] = np.zeros((self.dims[1], 1))\n",
        "        self.param['W2'] = np.random.randn(self.dims[2], self.dims[1]) / np.sqrt(self.dims[1])\n",
        "        self.param['b2'] = np.zeros((self.dims[2], 1))\n",
        "        return\n",
        "\n",
        "    def Sigmoid(self, Z):\n",
        "        return 1/(1+np.exp(-Z))\n",
        "\n",
        "    def Relu(self, Z):\n",
        "        return np.maximum(0,Z)\n",
        "\n",
        "    def forward(self):\n",
        "        # первый слой\n",
        "        Z1 = self.param['W1'].dot(self.X) + self.param['b1']\n",
        "        # функция активации\n",
        "        A1 = self.Relu(Z1)\n",
        "        # сохраняем в кэш результаты\n",
        "        self.ch['Z1'],self.ch['A1']=Z1,A1\n",
        "        # второй слой\n",
        "        Z2 = self.param['W2'].dot(A1) + self.param['b2']\n",
        "        # функция активации\n",
        "        A2 = self.Sigmoid(Z2)\n",
        "        # сохраняем в кэш результаты\n",
        "        self.ch['Z2'],self.ch['A2']=Z2,A2\n",
        "        # выход сети\n",
        "        self.Yh=A2\n",
        "        # считаем лоссы\n",
        "        loss=self.nloss(A2)\n",
        "        #print(self.param)\n",
        "        #print(self.Yh)\n",
        "        return self.Yh, loss\n",
        "\n",
        "    def nloss(self,Yh):\n",
        "        # кросс-энтропия\n",
        "        loss = (1./self.sam) * (-np.dot(self.Y,np.log(Yh).T) - np.dot(1-self.Y, np.log(1-Yh).T))\n",
        "        return loss\n",
        "\n",
        "    def dRelu(self, x):\n",
        "        x[x<=0] = 0\n",
        "        x[x>0] = 1\n",
        "        return x\n",
        "\n",
        "    def dSigmoid(self, Z):\n",
        "        s = 1/(1+np.exp(-Z))\n",
        "        dZ = s * (1-s)\n",
        "        return dZ\n",
        "\n",
        "    def backward(self):\n",
        "        dLoss_Yh = - (np.divide(self.Y, self.Yh ) - np.divide(1 - self.Y, 1 - self.Yh))\n",
        "\n",
        "        dLoss_Z2 = dLoss_Yh * self.dSigmoid(self.ch['Z2'])\n",
        "        dLoss_W2 = 1./self.ch['A1'].shape[1] * np.dot(dLoss_Z2,self.ch['A1'].T)\n",
        "        dLoss_b2 = 1./self.ch['A1'].shape[1] * np.dot(dLoss_Z2, np.ones([dLoss_Z2.shape[1],1]))\n",
        "        #dLoss_W2 = np.dot(dLoss_Z2,self.ch['A1'].T)\n",
        "        #dLoss_b2 = np.dot(dLoss_Z2, np.ones([dLoss_Z2.shape[1],1]))\n",
        "\n",
        "        dLoss_A1 = np.dot(self.param[\"W2\"].T,dLoss_Z2)\n",
        "        dLoss_Z1 = dLoss_A1 * self.dRelu(self.ch['Z1'])\n",
        "        dLoss_A0 = np.dot(self.param[\"W1\"].T,dLoss_Z1)\n",
        "        dLoss_W1 = 1./self.X.shape[1] * np.dot(dLoss_Z1,self.X.T)\n",
        "        dLoss_b1 = 1./self.X.shape[1] * np.dot(dLoss_Z1, np.ones([dLoss_Z1.shape[1],1]))\n",
        "        #dLoss_W1 = np.dot(dLoss_Z1,self.X.T)\n",
        "        #dLoss_b1 = np.dot(dLoss_Z1, np.ones([dLoss_Z1.shape[1],1]))\n",
        "\n",
        "        self.param[\"W1\"] = self.param[\"W1\"] - self.lr * dLoss_W1\n",
        "        self.param[\"b1\"] = self.param[\"b1\"] - self.lr * dLoss_b1\n",
        "        self.param[\"W2\"] = self.param[\"W2\"] - self.lr * dLoss_W2\n",
        "        self.param[\"b2\"] = self.param[\"b2\"] - self.lr * dLoss_b2\n",
        "\n",
        "    def gd(self,X, Y, iter = 3000):\n",
        "        np.random.seed(1)\n",
        "\n",
        "        self.nInit()\n",
        "\n",
        "        for i in range(0, iter):\n",
        "            Yh, loss=self.forward()\n",
        "            self.backward()\n",
        "\n",
        "            if i % 50 == 0:\n",
        "                print (\"Cost after iteration %i: %f\" %(i, loss.sum()))\n",
        "                self.loss.append(loss)\n",
        "\n",
        "        return\n",
        "\n",
        "    def pred(self,x, y):\n",
        "        self.X=x\n",
        "        self.Y=y\n",
        "        comp = np.zeros((10,x.shape[1]))\n",
        "        pred, loss= self.forward()\n",
        "        acc = 0\n",
        "        comp = comp.T\n",
        "        for i in range(pred.shape[1]):\n",
        "          #print(np.argmax(pred.T[i]))\n",
        "          comp[i][np.argmax(pred.T[i])] = 1\n",
        "          acc = acc + np.dot(comp[i,:], y[:,i])\n",
        "        comp = comp.T\n",
        "        print(\"Проверка данных:\")\n",
        "        print(\"предсказанное число моделью: \" + str(np.argmax(pred.T[0])))\n",
        "        print(\"Трансформированное число: \" + str(comp.T[0]))\n",
        "\n",
        "        print(\"Точность модели: \" + str(acc/x.shape[1]*100) + '%')\n",
        "        return comp\n",
        "\n",
        "    def check(self, num, y, c):\n",
        "      print(\"Истинные метки: \" + str(y.T[num]))\n",
        "      print(\"Предсказ метки: \" + str(c.T[num]))"
      ],
      "metadata": {
        "id": "x7xfSIIS5LDJ"
      },
      "execution_count": 10,
      "outputs": []
    },
    {
      "cell_type": "markdown",
      "source": [
        "## Обучение"
      ],
      "metadata": {
        "id": "FFIIorXpSUz-"
      }
    },
    {
      "cell_type": "code",
      "source": [
        "nn = dlnet(X_train, y_train)\n",
        "nn.lr=0.2\n",
        "nn.dims = [28**2, 24, 10]\n",
        "nn.gd(X_train, y_train, iter = 201)"
      ],
      "metadata": {
        "colab": {
          "base_uri": "https://localhost:8080/"
        },
        "id": "kgc1Af4_AfIe",
        "outputId": "9cb0e6fe-f20d-4bba-e51f-490a7736bfaa"
      },
      "execution_count": 11,
      "outputs": [
        {
          "output_type": "stream",
          "name": "stdout",
          "text": [
            "Cost after iteration 0: 69.102286\n",
            "Cost after iteration 50: 37.699210\n",
            "Cost after iteration 100: 50.345764\n",
            "Cost after iteration 150: 59.723858\n",
            "Cost after iteration 200: 66.647554\n"
          ]
        }
      ]
    },
    {
      "cell_type": "markdown",
      "source": [
        "## Проверка"
      ],
      "metadata": {
        "id": "kRJyipevSYJm"
      }
    },
    {
      "cell_type": "code",
      "source": [
        "c = nn.pred(X_test, y_test)\n",
        "#print(X_train.shape[1])"
      ],
      "metadata": {
        "colab": {
          "base_uri": "https://localhost:8080/"
        },
        "id": "pwzVFTieA150",
        "outputId": "3362a0bc-e555-403e-c5a4-f42ca9d80e30"
      },
      "execution_count": 12,
      "outputs": [
        {
          "output_type": "stream",
          "name": "stdout",
          "text": [
            "Проверка данных:\n",
            "предсказанное число моделью: 7\n",
            "Трансформированное число: [0. 0. 0. 0. 0. 0. 0. 1. 0. 0.]\n",
            "Точность модели: 88.01%\n"
          ]
        }
      ]
    },
    {
      "cell_type": "code",
      "source": [
        "for i in range(0, 10):\n",
        "  print(c.T[i])"
      ],
      "metadata": {
        "colab": {
          "base_uri": "https://localhost:8080/"
        },
        "id": "dVwfFn3eH_8F",
        "outputId": "bb4173f3-5cba-44f3-c039-462be09f3c8f"
      },
      "execution_count": 13,
      "outputs": [
        {
          "output_type": "stream",
          "name": "stdout",
          "text": [
            "[0. 0. 0. 0. 0. 0. 0. 1. 0. 0.]\n",
            "[0. 0. 1. 0. 0. 0. 0. 0. 0. 0.]\n",
            "[0. 1. 0. 0. 0. 0. 0. 0. 0. 0.]\n",
            "[1. 0. 0. 0. 0. 0. 0. 0. 0. 0.]\n",
            "[0. 0. 0. 0. 1. 0. 0. 0. 0. 0.]\n",
            "[0. 1. 0. 0. 0. 0. 0. 0. 0. 0.]\n",
            "[0. 0. 0. 0. 1. 0. 0. 0. 0. 0.]\n",
            "[0. 0. 0. 0. 0. 0. 0. 0. 0. 1.]\n",
            "[0. 0. 0. 0. 1. 0. 0. 0. 0. 0.]\n",
            "[0. 0. 0. 0. 0. 0. 0. 0. 0. 1.]\n"
          ]
        }
      ]
    },
    {
      "cell_type": "code",
      "source": [
        "nn.check(0, y_test, c)"
      ],
      "metadata": {
        "colab": {
          "base_uri": "https://localhost:8080/"
        },
        "id": "87evCf_I9Lc9",
        "outputId": "da9076c2-a08b-47b4-d2ea-14702c4f9f6d"
      },
      "execution_count": 19,
      "outputs": [
        {
          "output_type": "stream",
          "name": "stdout",
          "text": [
            "Истинные метки: [0. 0. 0. 0. 0. 0. 0. 1. 0. 0.]\n",
            "Предсказ метки: [0. 0. 0. 0. 0. 0. 0. 1. 0. 0.]\n"
          ]
        }
      ]
    },
    {
      "cell_type": "code",
      "source": [
        "print(\"y_test shape: \" + str(y_test.shape))"
      ],
      "metadata": {
        "id": "uv0U52tCFG3X",
        "colab": {
          "base_uri": "https://localhost:8080/"
        },
        "outputId": "103ffcdd-5b62-4d89-ed97-81bbfdde6177"
      },
      "execution_count": 20,
      "outputs": [
        {
          "output_type": "stream",
          "name": "stdout",
          "text": [
            "y_test shape: (10, 10000)\n"
          ]
        }
      ]
    },
    {
      "cell_type": "code",
      "source": [
        "print(\"Кол-во правильных предсказанных меток: \" + str((c==y_test).sum()))"
      ],
      "metadata": {
        "colab": {
          "base_uri": "https://localhost:8080/"
        },
        "id": "gCvQBS6wU0qj",
        "outputId": "5565d1c6-def8-4299-d9c6-1e7ae24aa0f2"
      },
      "execution_count": 21,
      "outputs": [
        {
          "output_type": "stream",
          "name": "stdout",
          "text": [
            "Кол-во правильных предсказанных меток: 97602\n"
          ]
        }
      ]
    },
    {
      "cell_type": "code",
      "source": [
        "cn = decode(c)\n",
        "yn = decode(y_test)\n",
        "print(\"Точность: \" + str((cn==yn).sum()/100) + '%')"
      ],
      "metadata": {
        "id": "IpTIlS-xVP7q",
        "colab": {
          "base_uri": "https://localhost:8080/"
        },
        "outputId": "ad8ccf24-3ebd-46c5-a685-cc6f33ba92bc"
      },
      "execution_count": 22,
      "outputs": [
        {
          "output_type": "stream",
          "name": "stdout",
          "text": [
            "Точность: 88.01%\n"
          ]
        }
      ]
    }
  ]
}